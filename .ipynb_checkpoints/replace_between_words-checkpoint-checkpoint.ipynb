{
 "cells": [
  {
   "cell_type": "code",
   "execution_count": 60,
   "id": "broke-advisory",
   "metadata": {},
   "outputs": [],
   "source": [
    "os.chdir('C:/Users/jelli/Documents/GitHub/CSC8639- Dissertation/Terra Environmental Variables/Rescaled')"
   ]
  },
  {
   "cell_type": "code",
   "execution_count": 61,
   "id": "fitted-instrument",
   "metadata": {},
   "outputs": [
    {
     "data": {
      "text/plain": [
       "'C:\\\\Users\\\\jelli\\\\Documents\\\\GitHub\\\\CSC8639- Dissertation\\\\Terra Environmental Variables\\\\Rescaled'"
      ]
     },
     "execution_count": 61,
     "metadata": {},
     "output_type": "execute_result"
    }
   ],
   "source": [
    "os.getcwd()"
   ]
  },
  {
   "cell_type": "code",
   "execution_count": 52,
   "id": "racial-techno",
   "metadata": {},
   "outputs": [
    {
     "name": "stdout",
     "output_type": "stream",
     "text": [
      "prec_mm_4326_01_cropped_final_1529ac67_a72d_4017_bdc9_777d1dc28f25_rescaled.tif\n",
      "prec_mm_4326_02_cropped_final_b5b7dd78_f9f8_4789_9c03_ea2c2b3ccd32_rescaled.tif\n",
      "prec_mm_4326_03_cropped_final_cfb08845_3ff5_4ee1_a7fc_5c9759d78f7e_rescaled.tif\n",
      "prec_mm_4326_04_cropped_final_f6739bc2_975b_47ce_965e_c3e9cdf90b8f_rescaled.tif\n",
      "prec_mm_4326_05_cropped_final_77e0a641_9bbb_4dfc_881d_d96115cca3b1_rescaled.tif\n",
      "prec_mm_4326_06_cropped_final_d405281f_da1a_41f8_92b9_5ade7583496d_rescaled.tif\n",
      "prec_mm_4326_07_cropped_final_d881999a_1834_4c6e_a241_92862911b9e8_rescaled.tif\n",
      "prec_mm_4326_08_cropped_final_5ed4bda9_73d3_4264_a857_cc9b2d221420_rescaled.tif\n",
      "prec_mm_4326_09_cropped_final_afba5ba5_d505_49cc_aad5_417113aad7ed_rescaled.tif\n",
      "prec_mm_4326_10_cropped_final_92e2c7d2_69f7_447f_89d2_cfaf61f9007a_rescaled.tif\n",
      "prec_mm_4326_11_cropped_final_9a4dbde7_82e3_409e_b73b_7f55a38ee440_rescaled.tif\n",
      "prec_mm_4326_12_cropped_final_a10d479b_587b_47b2_8457_45e86fcb32f2_rescaled.tif\n"
     ]
    }
   ],
   "source": [
    " import glob, re, os\n",
    "\n",
    " for file in os.listdir('C:/Users/jelli/Documents/GitHub/CSC8639- Dissertation/Terra Environmental Variables/Rescaled'):\n",
    "     print(str(file))"
   ]
  },
  {
   "cell_type": "code",
   "execution_count": 62,
   "id": "victorian-basin",
   "metadata": {},
   "outputs": [
    {
     "name": "stdout",
     "output_type": "stream",
     "text": [
      "prec_mm_4326_01_cropped_final_1529ac67_a72d_4017_bdc9_777d1dc28f25_rescaled.tif\n",
      "prec_mm_4326_01_cropped_rescaled.tif\n",
      "prec_mm_4326_02_cropped_final_b5b7dd78_f9f8_4789_9c03_ea2c2b3ccd32_rescaled.tif\n",
      "prec_mm_4326_02_cropped_rescaled.tif\n",
      "prec_mm_4326_03_cropped_final_cfb08845_3ff5_4ee1_a7fc_5c9759d78f7e_rescaled.tif\n",
      "prec_mm_4326_03_cropped_rescaled.tif\n",
      "prec_mm_4326_04_cropped_final_f6739bc2_975b_47ce_965e_c3e9cdf90b8f_rescaled.tif\n",
      "prec_mm_4326_04_cropped_rescaled.tif\n",
      "prec_mm_4326_05_cropped_final_77e0a641_9bbb_4dfc_881d_d96115cca3b1_rescaled.tif\n",
      "prec_mm_4326_05_cropped_rescaled.tif\n",
      "prec_mm_4326_06_cropped_final_d405281f_da1a_41f8_92b9_5ade7583496d_rescaled.tif\n",
      "prec_mm_4326_06_cropped_rescaled.tif\n",
      "prec_mm_4326_07_cropped_final_d881999a_1834_4c6e_a241_92862911b9e8_rescaled.tif\n",
      "prec_mm_4326_07_cropped_rescaled.tif\n",
      "prec_mm_4326_08_cropped_final_5ed4bda9_73d3_4264_a857_cc9b2d221420_rescaled.tif\n",
      "prec_mm_4326_08_cropped_rescaled.tif\n",
      "prec_mm_4326_09_cropped_final_afba5ba5_d505_49cc_aad5_417113aad7ed_rescaled.tif\n",
      "prec_mm_4326_09_cropped_rescaled.tif\n",
      "prec_mm_4326_10_cropped_final_92e2c7d2_69f7_447f_89d2_cfaf61f9007a_rescaled.tif\n",
      "prec_mm_4326_10_cropped_rescaled.tif\n",
      "prec_mm_4326_11_cropped_final_9a4dbde7_82e3_409e_b73b_7f55a38ee440_rescaled.tif\n",
      "prec_mm_4326_11_cropped_rescaled.tif\n",
      "prec_mm_4326_12_cropped_final_a10d479b_587b_47b2_8457_45e86fcb32f2_rescaled.tif\n",
      "prec_mm_4326_12_cropped_rescaled.tif\n"
     ]
    }
   ],
   "source": [
    "import glob, re, os\n",
    "    \n",
    "for file in os.listdir('C:/Users/jelli/Documents/GitHub/CSC8639- Dissertation/Terra Environmental Variables/Rescaled'):\n",
    "    old_name=str(file)\n",
    "    print(old_name)\n",
    "    new_name = re.sub(r'(final_)([\\s\\S]*?)(_rescaled)', r'rescaled', old_name)\n",
    "    print(new_name)\n",
    "    os.rename(file, new_name)"
   ]
  },
  {
   "cell_type": "code",
   "execution_count": null,
   "id": "mental-anatomy",
   "metadata": {},
   "outputs": [],
   "source": []
  }
 ],
 "metadata": {
  "kernelspec": {
   "display_name": "Python 3",
   "language": "python",
   "name": "python3"
  },
  "language_info": {
   "codemirror_mode": {
    "name": "ipython",
    "version": 3
   },
   "file_extension": ".py",
   "mimetype": "text/x-python",
   "name": "python",
   "nbconvert_exporter": "python",
   "pygments_lexer": "ipython3",
   "version": "3.8.5"
  }
 },
 "nbformat": 4,
 "nbformat_minor": 5
}
